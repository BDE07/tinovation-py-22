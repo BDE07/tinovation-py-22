{
 "cells": [
  {
   "cell_type": "markdown",
   "id": "ea7fbf29",
   "metadata": {},
   "source": [
    "# Linear Regression Template Code - 10/3/2022\n",
    "\n",
    "Hello everyone! This is the template code that we are going to cover/do self paced from today's Tinovation meeting (10/3/2022).\n",
    "We're going to be covering linear regression (detailed during the slides), and more specifically going to be using different data visualization - a new topic - to understand trends within the data.\n",
    "\n",
    "After data visualization, we'll be using processing the data and then performing linear regression using a package known as scikit-learn."
   ]
  },
  {
   "cell_type": "code",
   "execution_count": null,
   "id": "47e2e2ec",
   "metadata": {},
   "outputs": [],
   "source": [
    "import numpy as np \n",
    "import pandas as pd \n",
    "import matplotlib.pyplot as plt\n",
    "import seaborn as sns\n",
    "import os\n"
   ]
  },
  {
   "cell_type": "markdown",
   "id": "c4b422fe",
   "metadata": {},
   "source": [
    "# Handling the Data\n",
    "To handle the data, make sure you download the \"train.csv\" file and put it into the same folder as this file.\n",
    "\n",
    "After getting the .csv file downloaded and set up as described above, we have to load that aforementioned .csv file into a Pandas Dataframe, and plainly visualize the data to make sure that we've properly loaded the data.\n",
    "\n",
    "To do this, you will need to find the filepath of the .csv file! There are a number of ways to do this, but we've listed apt documentation for one method - this will require a little bit of problem solving.\n",
    "\n",
    "<br>\n",
    "\n",
    "Helpful commands:\n",
    "<pre>\n",
    "    os.getcwd() # --> returns the current directory as a STRING\n",
    "    os.listdir(given_path) # --> returns all directories in the given path(as a STRING) as a list\n",
    "    pandas.read_csv(filepath) # --> returns the csv file(file path is a STRING) as a pandas DataFrame\n",
    "</pre>\n",
    "If you want to read more about each, refer to following:<br>\n",
    "https://pandas.pydata.org/docs/reference/api/pandas.read_csv.html <br>\n",
    "\n",
    "Hint for finding the file path:<br>\n",
    " - Maybe try looking for a certain file within a list of filenames from your current directory...do you understand why we gave you those first two commands now? ;) <br> \n",
    "   - You might have to google how to search for a certain element in a list to do the approach described above. Don't be afraid to ask for help!"
   ]
  },
  {
   "cell_type": "code",
   "execution_count": null,
   "id": "f612834b",
   "metadata": {},
   "outputs": [],
   "source": [
    "#ENTER CODE HERE (approx. 2 lines)    \n",
    "#database = ...\n",
    "#database_file = ...\n"
   ]
  },
  {
   "cell_type": "code",
   "execution_count": null,
   "id": "8da7b9e8",
   "metadata": {},
   "outputs": [],
   "source": [
    "#Quick tests - you'll find these scattered throughout the whole code base \n",
    "assert 'database_file' in globals(), \"Didn't download the file and(or) run the code :(\"\n",
    "assert 'database' in globals(), \"Didn't initialize the database variable very sadge\"\n",
    "\n",
    "\n",
    "print(database.head()) # prints the first 10 rows of the dataset"
   ]
  },
  {
   "cell_type": "markdown",
   "id": "6b45cf8d",
   "metadata": {},
   "source": [
    "Now that you've successfully initialized the database and printed out the first 10 rows of the dataset, let's look at how the data seems to be oriented.\n",
    "\n",
    "We can tell from this snippet of data that there seems to be several columns of data here...but I think we can get rid of a few. There's no need to have all of these columns.\n",
    "<br>\n",
    "Which do you think are the most important - given that we're trying to find what age had the highest chance of survival?\n",
    "<br><br>\n",
    "If you said <strong>age and survival</strong>, you're correct.\n",
    "<br>\n",
    "However, there is something that I should probably warn you about. Take a look at the following column of data: \n",
    "<pre>\n",
    "Age\n",
    "    27.0\n",
    "    NaN\n",
    "    13.0\n",
    "    NaN\n",
    "    9.0\n",
    "</pre>\n",
    "<br> What does that \"NaN\" thing mean? \n",
    "- Great question! It means not a number, and usually happens when a data value is considered missing or null.\n",
    "    - If you can't see where I'm going with this...we don't want null and missing values for certain categories.\n",
    "    - We need to find a way to get rid of those rows with NaN values, so that every row in the dataset is defined.\n",
    "\n",
    "I think it would be best to try and get rid of all the other categories.<br><br>\n",
    "\n",
    "Helpful Commands:\n",
    "<pre>\n",
    "    dataset.loc[selected_rows, selected_columns] # --> returns the specified rows of the specified columns\n",
    "                                                       (as a list of the names of the rows/columns)\n",
    "                                                     \n",
    "    dataset.dropna(axis) #--> removes all the NaN(not a number) entries in the table - axis=0 means rows, axis=1 means columns\n",
    "</pre>\n",
    "If you want to read more about .loc(), look at the following: https://pandas.pydata.org/docs/reference/api/pandas.DataFrame.loc.html\n",
    "<br><br>\n",
    "Hint: We want to get all rows, but only two columns...we face two problems here.\n",
    "- We aren't going to type in every single row in a list and pass that as a parameter, we could be here for hours. Instead, use something called the slice operator, indicated with a colon in Python -->  \" : \".\n",
    "    - You might have to do some research to know how to use the slice operator to get all values. \n",
    "    - Stack Overflow to the Rescue!! https://stackoverflow.com/questions/4012340/colon-in-python-list-index"
   ]
  },
  {
   "cell_type": "code",
   "execution_count": null,
   "id": "a6fe896b",
   "metadata": {},
   "outputs": [],
   "source": [
    "#ENTER CODE HERE (approx. 2 lines)\n",
    "#train = ..."
   ]
  },
  {
   "cell_type": "code",
   "execution_count": null,
   "id": "ca22cbb9",
   "metadata": {},
   "outputs": [],
   "source": [
    "assert 'train' in globals(), \"Didn't run the code or changed the variable name :(\"\n",
    "assert train.shape == (714, 2), f\"Shape of the new dataset should be (714, 2), but is {new_dataset.shape}\"\n",
    "\n",
    "print(train)"
   ]
  },
  {
   "cell_type": "markdown",
   "id": "269e5026",
   "metadata": {},
   "source": [
    "Now that we've gotten the data we want, let's briefly cover a part of handling data...visualization!<br>\n",
    "We'll be using a package known as seaborn to handle visualization of the data. We'll get into this more later on! Just use it as a tool to make the numbers easier to understand. <br>No need to write the code for this part, since we haven't covered it yet."
   ]
  },
  {
   "cell_type": "code",
   "execution_count": null,
   "id": "1fe47801",
   "metadata": {},
   "outputs": [],
   "source": [
    "sns.displot(train[\"Age\"], kde=False, bins = 30)"
   ]
  },
  {
   "cell_type": "markdown",
   "id": "b77dcc1c",
   "metadata": {},
   "source": [
    "While data this simple doesn't really lend itself for much analysis, we'll get into much more complex datasets and do more with the datasets as we progress. For now, let's just make this simple connection. We know from the plot above the ages seem to be mainly from 15 to 40."
   ]
  },
  {
   "cell_type": "code",
   "execution_count": null,
   "id": "6b2d717d",
   "metadata": {},
   "outputs": [],
   "source": [
    "sns.countplot(x=\"Survived\", data=train)"
   ]
  },
  {
   "cell_type": "markdown",
   "id": "7858c69e",
   "metadata": {},
   "source": [
    "The data above is also not very telling of any major trend, but I guess what we can pull from this is that more people died than lived...make of that what you will.\n",
    "<br>\n",
    "<br>\n",
    "Anyway, we're now ready to use linear regression and find this line of best fit!<br><br>\n",
    "We're going to use something called scikit-learn, an expansive open source data science package that is widely used to handle data and for regression - which is exactly what we're doing in this code sample.\n",
    "\n",
    "Specifically, we need to do the following steps:\n",
    "- We need to first split our data into X and Y datasets (think about which is which - always ask us if you're stuck.)\n",
    "- Then we need to split that X and Y data into train and test sets - use the same thing you did get only two columns into a dataset, but this time only use 1 column in that list!\n",
    "    - You may be wondering why that's even needed. This is because the regression model trains on the allocated train data we have, but in order to test how effective the regression is at fitting to the data, we need a fresh batch of data from the same distribution to ensure that it's not testing on data that it has already seen before in the train data. If it's training on data that it's already seen before, then we're obviously not going to be able to accurately measure prediction.\n",
    "- After that, all we have to do is fit the training data onto a linear regression model. We do that part of the code for you.\n",
    "\n",
    "\n",
    "Helpful Commands from Scikit Learn:\n",
    "<pre>\n",
    "    train_test_split(X, y, test_size) #--> returns X_train, X_test, y_train, y_test w test_size being a ratio from 0 to 1 \n",
    "    model_name_goes_here.predict(X_test) #--> returns predictions of the data from the entered test data\n",
    "</pre>\n",
    "Hints:\n",
    "- We will provide the imports for you, and will fill in code in between.\n",
    "- Also, the test size ratio gets smaller the more total data you have - since we have a relatively small amount of data,<br>\n",
    "  we recommend a test size ratio of 0.2 -> 0.3, but feel free to experiment!"
   ]
  },
  {
   "cell_type": "code",
   "execution_count": null,
   "id": "25fb0bc3",
   "metadata": {},
   "outputs": [],
   "source": [
    "#ENTER CODE HERE (approx 2 lines)\n",
    "#X = ...\n",
    "#y = ..."
   ]
  },
  {
   "cell_type": "code",
   "execution_count": null,
   "id": "56af9d2c",
   "metadata": {},
   "outputs": [],
   "source": [
    "!pip install sklearn \n",
    "#MAKE SURE YOU HAVE SCIKIT LEARN INSTALLED!!!!\n",
    "\n",
    "from sklearn.model_selection import train_test_split\n",
    "#ENTER CODE HERE (approx. 1 line)\n",
    "#X_train, X_test, y_train, y_test = ..."
   ]
  },
  {
   "cell_type": "code",
   "execution_count": null,
   "id": "e2a02121",
   "metadata": {},
   "outputs": [],
   "source": [
    "assert 'X_train' in globals(), \"Didn't run code or changed variable names\"\n",
    "assert 'y_train' in globals(), \"Didn't run code or changed variable names\"\n",
    "assert 'X_test' in globals(), \"Didn't run code or changed variable names\"\n",
    "assert 'y_test' in globals(), \"Didn't run code or changed variable names\""
   ]
  },
  {
   "cell_type": "code",
   "execution_count": null,
   "id": "9d3d581f",
   "metadata": {},
   "outputs": [],
   "source": [
    "from sklearn.linear_model import LinearRegression\n",
    "\n",
    "model = LinearRegression()\n",
    "model.fit(X_train, y_train)\n",
    "\n",
    "#ENTER CODE HERE (approx. 1 line)\n",
    "#predictions = ..."
   ]
  },
  {
   "cell_type": "code",
   "execution_count": null,
   "id": "f7c3bae5",
   "metadata": {},
   "outputs": [],
   "source": [
    "assert 'predictions' in globals(), \"Didn't run code or changed variable names\""
   ]
  },
  {
   "cell_type": "markdown",
   "id": "df9f9dfa",
   "metadata": {},
   "source": [
    "Now, is the last part. How effective was our linear regression? We can't calculate the accuracy of a regression model (come ask us why if you're curious), but we can graphically see how well our line of best fit is for the data we have. Look below..."
   ]
  },
  {
   "cell_type": "code",
   "execution_count": null,
   "id": "ed3138ed",
   "metadata": {},
   "outputs": [],
   "source": [
    "X_test = X_test.reshape(X_test.shape[1]*X_test.shape[0], 1)\n",
    "\n",
    "predictions = np.array(predictions).reshape(predictions.shape[1]*predictions.shape[0], 1)\n",
    "print(predictions.shape)"
   ]
  },
  {
   "cell_type": "code",
   "execution_count": null,
   "id": "8850dfa2",
   "metadata": {},
   "outputs": [],
   "source": [
    "fig, ax = plt.subplots(figsize=[10,6])\n",
    "ax.set_title(\"Linear Regression on Titanic Dataset\")\n",
    "ax.set_ylim(-1, 2)\n",
    "ax.scatter(X_train, y_train, color=\"black\")\n",
    "ax.plot(X_test, predictions, color=\"blue\")\n",
    "\n",
    "plt.show()"
   ]
  },
  {
   "cell_type": "markdown",
   "id": "74ccb194",
   "metadata": {},
   "source": [
    "Does this look like it really fits the data? No should be the answer. This is an example of when a certain regression model doesn't fit the data at hand. Do you know why linear regression isn't good for this scenario? <br><br>\n",
    "\n",
    "If you didn't pick up on it, if the y output is always going to be 0 or 1, then what linear relationship is the data going to really have? It's a classic example of binary classification(0 or 1), and that's something we will definitely cover later on using this dataset. How can a linear relationship be made out of a 0 or a 1?\n",
    "\n",
    "<br>However, if you would like to see a sample of linear regression code that does work, look for the file \"linreg.ipynb\" in the code samples. It shows you sample data that makes sense with the linear regression model, and clarifies a use case of it.\n",
    "\n",
    "<br>Thank you for running through this code sample! If you have any questions, ask now or send a msg in our discord. (refer to the slides to find it.)\n",
    "\n",
    "<br> <strong>HAVE A GREAT MONDAY!</strong> <br>"
   ]
  },
  {
   "cell_type": "code",
   "execution_count": null,
   "id": "5152c89c",
   "metadata": {},
   "outputs": [],
   "source": []
  }
 ],
 "metadata": {
  "kernelspec": {
   "display_name": "Python 3 (ipykernel)",
   "language": "python",
   "name": "python3"
  },
  "language_info": {
   "codemirror_mode": {
    "name": "ipython",
    "version": 3
   },
   "file_extension": ".py",
   "mimetype": "text/x-python",
   "name": "python",
   "nbconvert_exporter": "python",
   "pygments_lexer": "ipython3",
   "version": "3.8.8"
  }
 },
 "nbformat": 4,
 "nbformat_minor": 5
}
