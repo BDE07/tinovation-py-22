{
 "cells": [
  {
   "cell_type": "markdown",
   "id": "55183651",
   "metadata": {},
   "source": [
    "# Data Visualization Template Code\n",
    "\n",
    "Hello everyone! Today's code sample won't be as complicated...maybe. We'll just give you a dataset to use and some stuff to visualize, and you should be on your way. We're using the same Titanic dataset as last time, so make sure you have it!\n",
    "\n",
    "We will be using matplotlib.pyplot and seaborn for this code sample. To download them, use the following commands in your Anaconda Terminal:\n",
    "\n",
    "<pre>\n",
    "conda install -c conda-forge matplotlib ---> installs matplotlib\n",
    "    \n",
    "conda install -c anaconda seaborn ---> installs seaborn\n",
    "</pre>"
   ]
  },
  {
   "cell_type": "code",
   "execution_count": 1,
   "id": "aeb54ac2",
   "metadata": {},
   "outputs": [],
   "source": [
    "import matplotlib.pyplot as plt\n",
    "import seaborn as sns\n",
    "import os\n",
    "import pandas as pd"
   ]
  },
  {
   "cell_type": "markdown",
   "id": "a609690f",
   "metadata": {},
   "source": [
    "# Handling the Data\n",
    "Assuming you have the .csv file downloaded, we have to load that aforementioned .csv file into a Pandas Dataframe, and plainly visualize the data to make sure that we've properly loaded the data.\n",
    "\n",
    "To do this, you will need to find the filepath of the .csv file! There are a number of ways to do this, but we've listed apt documentation for one method - this will require a little bit of problem solving.\n",
    "\n",
    "<br>\n",
    "\n",
    "Helpful commands:\n",
    "<pre>\n",
    "    pandas.read_csv(filepath) # --> returns the csv file(file path is a STRING) as a pandas DataFrame\n",
    "</pre>\n",
    "If you want to read more about each, refer to following:<br>\n",
    "https://pandas.pydata.org/docs/reference/api/pandas.read_csv.html <br>\n"
   ]
  },
  {
   "cell_type": "code",
   "execution_count": 2,
   "id": "ced96ccb",
   "metadata": {},
   "outputs": [],
   "source": [
    "filepath = [file for file in os.listdir(os.getcwd()) if \".csv\" in file][0]\n",
    "\n",
    "#WRITE CODE HERE (approx. 1 line)\n",
    "#dataset = ... \n",
    "\n",
    "dataset = pd.read_csv(filepath) #DELETE THIS"
   ]
  },
  {
   "cell_type": "code",
   "execution_count": 4,
   "id": "025244bc",
   "metadata": {},
   "outputs": [
    {
     "data": {
      "text/html": [
       "<div>\n",
       "<style scoped>\n",
       "    .dataframe tbody tr th:only-of-type {\n",
       "        vertical-align: middle;\n",
       "    }\n",
       "\n",
       "    .dataframe tbody tr th {\n",
       "        vertical-align: top;\n",
       "    }\n",
       "\n",
       "    .dataframe thead th {\n",
       "        text-align: right;\n",
       "    }\n",
       "</style>\n",
       "<table border=\"1\" class=\"dataframe\">\n",
       "  <thead>\n",
       "    <tr style=\"text-align: right;\">\n",
       "      <th></th>\n",
       "      <th>PassengerId</th>\n",
       "      <th>Survived</th>\n",
       "      <th>Pclass</th>\n",
       "      <th>Name</th>\n",
       "      <th>Sex</th>\n",
       "      <th>Age</th>\n",
       "      <th>SibSp</th>\n",
       "      <th>Parch</th>\n",
       "      <th>Ticket</th>\n",
       "      <th>Fare</th>\n",
       "      <th>Cabin</th>\n",
       "      <th>Embarked</th>\n",
       "    </tr>\n",
       "  </thead>\n",
       "  <tbody>\n",
       "    <tr>\n",
       "      <th>0</th>\n",
       "      <td>1</td>\n",
       "      <td>0</td>\n",
       "      <td>3</td>\n",
       "      <td>Braund, Mr. Owen Harris</td>\n",
       "      <td>male</td>\n",
       "      <td>22.0</td>\n",
       "      <td>1</td>\n",
       "      <td>0</td>\n",
       "      <td>A/5 21171</td>\n",
       "      <td>7.2500</td>\n",
       "      <td>NaN</td>\n",
       "      <td>S</td>\n",
       "    </tr>\n",
       "    <tr>\n",
       "      <th>1</th>\n",
       "      <td>2</td>\n",
       "      <td>1</td>\n",
       "      <td>1</td>\n",
       "      <td>Cumings, Mrs. John Bradley (Florence Briggs Th...</td>\n",
       "      <td>female</td>\n",
       "      <td>38.0</td>\n",
       "      <td>1</td>\n",
       "      <td>0</td>\n",
       "      <td>PC 17599</td>\n",
       "      <td>71.2833</td>\n",
       "      <td>C85</td>\n",
       "      <td>C</td>\n",
       "    </tr>\n",
       "    <tr>\n",
       "      <th>2</th>\n",
       "      <td>3</td>\n",
       "      <td>1</td>\n",
       "      <td>3</td>\n",
       "      <td>Heikkinen, Miss. Laina</td>\n",
       "      <td>female</td>\n",
       "      <td>26.0</td>\n",
       "      <td>0</td>\n",
       "      <td>0</td>\n",
       "      <td>STON/O2. 3101282</td>\n",
       "      <td>7.9250</td>\n",
       "      <td>NaN</td>\n",
       "      <td>S</td>\n",
       "    </tr>\n",
       "    <tr>\n",
       "      <th>3</th>\n",
       "      <td>4</td>\n",
       "      <td>1</td>\n",
       "      <td>1</td>\n",
       "      <td>Futrelle, Mrs. Jacques Heath (Lily May Peel)</td>\n",
       "      <td>female</td>\n",
       "      <td>35.0</td>\n",
       "      <td>1</td>\n",
       "      <td>0</td>\n",
       "      <td>113803</td>\n",
       "      <td>53.1000</td>\n",
       "      <td>C123</td>\n",
       "      <td>S</td>\n",
       "    </tr>\n",
       "    <tr>\n",
       "      <th>4</th>\n",
       "      <td>5</td>\n",
       "      <td>0</td>\n",
       "      <td>3</td>\n",
       "      <td>Allen, Mr. William Henry</td>\n",
       "      <td>male</td>\n",
       "      <td>35.0</td>\n",
       "      <td>0</td>\n",
       "      <td>0</td>\n",
       "      <td>373450</td>\n",
       "      <td>8.0500</td>\n",
       "      <td>NaN</td>\n",
       "      <td>S</td>\n",
       "    </tr>\n",
       "  </tbody>\n",
       "</table>\n",
       "</div>"
      ],
      "text/plain": [
       "   PassengerId  Survived  Pclass  \\\n",
       "0            1         0       3   \n",
       "1            2         1       1   \n",
       "2            3         1       3   \n",
       "3            4         1       1   \n",
       "4            5         0       3   \n",
       "\n",
       "                                                Name     Sex   Age  SibSp  \\\n",
       "0                            Braund, Mr. Owen Harris    male  22.0      1   \n",
       "1  Cumings, Mrs. John Bradley (Florence Briggs Th...  female  38.0      1   \n",
       "2                             Heikkinen, Miss. Laina  female  26.0      0   \n",
       "3       Futrelle, Mrs. Jacques Heath (Lily May Peel)  female  35.0      1   \n",
       "4                           Allen, Mr. William Henry    male  35.0      0   \n",
       "\n",
       "   Parch            Ticket     Fare Cabin Embarked  \n",
       "0      0         A/5 21171   7.2500   NaN        S  \n",
       "1      0          PC 17599  71.2833   C85        C  \n",
       "2      0  STON/O2. 3101282   7.9250   NaN        S  \n",
       "3      0            113803  53.1000  C123        S  \n",
       "4      0            373450   8.0500   NaN        S  "
      ]
     },
     "execution_count": 4,
     "metadata": {},
     "output_type": "execute_result"
    }
   ],
   "source": [
    "#Quick tests - you'll find these scattered throughout the whole code base \n",
    "assert 'filepath' in globals(), \"Didn't download the file and(or) run the code :(\"\n",
    "assert 'dataset' in globals(), \"Didn't initialize the dataset variable very sadge\"\n",
    "\n",
    "\n",
    "dataset.head()"
   ]
  },
  {
   "cell_type": "markdown",
   "id": "c8f6220c",
   "metadata": {},
   "source": [
    "Let's think about it. What do we think we should analyze in terms of the trends in the data?\n",
    "\n",
    "More specifically, what do you think shows trends?\n",
    "What I can tell you is the <strong>name</strong> doesn't really show a lot of trends. Neither would the <strong>passenger ID</strong>. Nor would the <strong>fare</strong>, or the <strong>ticket</strong>. So, let's try and remove those columns from the data!\n",
    "\n",
    "Helpful Commands:\n",
    "<pre>\n",
    "    dataset.drop[selected_rows_or_columns, axis] # --> returns the table w/ the specified rows and columns removed\n",
    "                                                       (axis=1 means columns, axis=0 means rows)\n",
    "                                                     \n",
    "    dataset.dropna(axis) #--> removes all the NaN(not a number) entries in the table - axis=0 means rows, axis=1 means columns\n",
    "</pre>\n",
    "    \n",
    "Example to drop the cabin and Pclass:\n",
    "<pre>\n",
    "    cabin_column = dataset.drop([\"Pclass\", \"Cabin\"], axis=1)\n",
    "</pre>"
   ]
  },
  {
   "cell_type": "code",
   "execution_count": 9,
   "id": "97cce503",
   "metadata": {},
   "outputs": [],
   "source": [
    "#ENTER CODE HERE (approx. 2 lines)\n",
    "#new_data = ...\n",
    "new_data = dataset.drop(['Fare', 'Name', 'Ticket', 'PassengerId'], axis=1)\n",
    "new_data = new_data.dropna(axis=0)"
   ]
  },
  {
   "cell_type": "code",
   "execution_count": 10,
   "id": "d98bfe97",
   "metadata": {},
   "outputs": [
    {
     "data": {
      "text/plain": [
       "Index(['Survived', 'Pclass', 'Sex', 'Age', 'SibSp', 'Parch', 'Cabin',\n",
       "       'Embarked'],\n",
       "      dtype='object')"
      ]
     },
     "execution_count": 10,
     "metadata": {},
     "output_type": "execute_result"
    }
   ],
   "source": [
    "assert 'new_data' in globals(), \"Didn't download the file and(or) run the code :(\"\n",
    "\n",
    "new_data.columns"
   ]
  },
  {
   "cell_type": "markdown",
   "id": "a7bfac7f",
   "metadata": {},
   "source": [
    "The first major data visualization method we should look at is sns.displot. \n",
    "It draws a distribution plot that shows the general distributions of the data - pretty self explanatory.\n",
    "\n",
    "The next one we should take a look at is the sns.countplot.\n",
    "\n",
    "Helpful Commands:\n",
    "<pre>\n",
    "    sns.displot(column, kde, bins)\n",
    "</pre>\n",
    "\n",
    "Objective:\n",
    "- Draw distplots for the age column, "
   ]
  },
  {
   "cell_type": "code",
   "execution_count": 16,
   "id": "8df8b343",
   "metadata": {},
   "outputs": [
    {
     "data": {
      "text/plain": [
       "<seaborn.axisgrid.FacetGrid at 0x18d8a055fd0>"
      ]
     },
     "execution_count": 16,
     "metadata": {},
     "output_type": "execute_result"
    },
    {
     "data": {
      "image/png": "[encoded data removed]",
      "text/plain": [
       "<Figure size 360x360 with 1 Axes>"
      ]
     },
     "metadata": {
      "needs_background": "light"
     },
     "output_type": "display_data"
    }
   ],
   "source": [
    "sns.displot(new_data[\"Age\"], kde=True, bins = 50)"
   ]
  },
  {
   "cell_type": "code",
   "execution_count": null,
   "id": "2b60c735",
   "metadata": {},
   "outputs": [],
   "source": []
  }
 ],
 "metadata": {
  "kernelspec": {
   "display_name": "Python 3 (ipykernel)",
   "language": "python",
   "name": "python3"
  },
  "language_info": {
   "codemirror_mode": {
    "name": "ipython",
    "version": 3
   },
   "file_extension": ".py",
   "mimetype": "text/x-python",
   "name": "python",
   "nbconvert_exporter": "python",
   "pygments_lexer": "ipython3",
   "version": "3.8.8"
  }
 },
 "nbformat": 4,
 "nbformat_minor": 5
}
