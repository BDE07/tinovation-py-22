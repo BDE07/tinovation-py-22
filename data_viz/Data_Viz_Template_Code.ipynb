{
 "cells": [
  {
   "cell_type": "markdown",
   "id": "bd5f7849",
   "metadata": {},
   "source": [
    "# Data Visualization Template Code - 10/10/22\n",
    "\n",
    "Hello everyone! Today's code sample won't be as complicated...maybe. We'll just give you a dataset to use and some stuff to visualize, and you should be on your way. We're using the same Titanic dataset as last time, so make sure you have it!\n",
    "\n",
    "We will be using matplotlib.pyplot and seaborn for this code sample. To download them, use the following commands in your Anaconda Terminal:\n",
    "\n",
    "<pre>\n",
    "conda install -c conda-forge matplotlib ---> installs matplotlib\n",
    "    \n",
    "conda install -c anaconda seaborn ---> installs seaborn\n",
    "</pre>"
   ]
  },
  {
   "cell_type": "code",
   "execution_count": 22,
   "id": "6902e4c6",
   "metadata": {},
   "outputs": [],
   "source": [
    "import matplotlib.pyplot as plt\n",
    "import seaborn as sns\n",
    "import numpy as np\n",
    "import os\n",
    "import pandas as pd"
   ]
  },
  {
   "cell_type": "markdown",
   "id": "cdcef957",
   "metadata": {},
   "source": [
    "# Handling the Data\n",
    "Assuming you have the .csv file downloaded, we have to load that aforementioned .csv file into a Pandas Dataframe, and plainly visualize the data to make sure that we've properly loaded the data.\n",
    "\n",
    "To do this, you will need to find the filepath of the .csv file! There are a number of ways to do this, but we've listed apt documentation for one method - this will require a little bit of problem solving.\n",
    "\n",
    "<br>\n",
    "\n",
    "Helpful commands:\n",
    "<pre>\n",
    "    pandas.read_csv(filepath) # --> returns the csv file(file path is a STRING) as a pandas DataFrame\n",
    "</pre>\n",
    "If you want to read more about each, refer to following:<br>\n",
    "https://pandas.pydata.org/docs/reference/api/pandas.read_csv.html <br>\n"
   ]
  },
  {
   "cell_type": "code",
   "execution_count": 2,
   "id": "08bd6c5d",
   "metadata": {},
   "outputs": [],
   "source": [
    "filepath = [file for file in os.listdir(os.getcwd()) if \".csv\" in file][0]\n",
    "\n",
    "#WRITE CODE HERE (approx. 1 line)\n",
    "#dataset = ... \n",
    "\n",
    "dataset = pd.read_csv(filepath) #DELETE THIS"
   ]
  },
  {
   "cell_type": "code",
   "execution_count": 4,
   "id": "efce9637",
   "metadata": {},
   "outputs": [
    {
     "data": {
      "text/html": [
       "<div>\n",
       "<style scoped>\n",
       "    .dataframe tbody tr th:only-of-type {\n",
       "        vertical-align: middle;\n",
       "    }\n",
       "\n",
       "    .dataframe tbody tr th {\n",
       "        vertical-align: top;\n",
       "    }\n",
       "\n",
       "    .dataframe thead th {\n",
       "        text-align: right;\n",
       "    }\n",
       "</style>\n",
       "<table border=\"1\" class=\"dataframe\">\n",
       "  <thead>\n",
       "    <tr style=\"text-align: right;\">\n",
       "      <th></th>\n",
       "      <th>PassengerId</th>\n",
       "      <th>Survived</th>\n",
       "      <th>Pclass</th>\n",
       "      <th>Name</th>\n",
       "      <th>Sex</th>\n",
       "      <th>Age</th>\n",
       "      <th>SibSp</th>\n",
       "      <th>Parch</th>\n",
       "      <th>Ticket</th>\n",
       "      <th>Fare</th>\n",
       "      <th>Cabin</th>\n",
       "      <th>Embarked</th>\n",
       "    </tr>\n",
       "  </thead>\n",
       "  <tbody>\n",
       "    <tr>\n",
       "      <th>0</th>\n",
       "      <td>1</td>\n",
       "      <td>0</td>\n",
       "      <td>3</td>\n",
       "      <td>Braund, Mr. Owen Harris</td>\n",
       "      <td>male</td>\n",
       "      <td>22.0</td>\n",
       "      <td>1</td>\n",
       "      <td>0</td>\n",
       "      <td>A/5 21171</td>\n",
       "      <td>7.2500</td>\n",
       "      <td>NaN</td>\n",
       "      <td>S</td>\n",
       "    </tr>\n",
       "    <tr>\n",
       "      <th>1</th>\n",
       "      <td>2</td>\n",
       "      <td>1</td>\n",
       "      <td>1</td>\n",
       "      <td>Cumings, Mrs. John Bradley (Florence Briggs Th...</td>\n",
       "      <td>female</td>\n",
       "      <td>38.0</td>\n",
       "      <td>1</td>\n",
       "      <td>0</td>\n",
       "      <td>PC 17599</td>\n",
       "      <td>71.2833</td>\n",
       "      <td>C85</td>\n",
       "      <td>C</td>\n",
       "    </tr>\n",
       "    <tr>\n",
       "      <th>2</th>\n",
       "      <td>3</td>\n",
       "      <td>1</td>\n",
       "      <td>3</td>\n",
       "      <td>Heikkinen, Miss. Laina</td>\n",
       "      <td>female</td>\n",
       "      <td>26.0</td>\n",
       "      <td>0</td>\n",
       "      <td>0</td>\n",
       "      <td>STON/O2. 3101282</td>\n",
       "      <td>7.9250</td>\n",
       "      <td>NaN</td>\n",
       "      <td>S</td>\n",
       "    </tr>\n",
       "    <tr>\n",
       "      <th>3</th>\n",
       "      <td>4</td>\n",
       "      <td>1</td>\n",
       "      <td>1</td>\n",
       "      <td>Futrelle, Mrs. Jacques Heath (Lily May Peel)</td>\n",
       "      <td>female</td>\n",
       "      <td>35.0</td>\n",
       "      <td>1</td>\n",
       "      <td>0</td>\n",
       "      <td>113803</td>\n",
       "      <td>53.1000</td>\n",
       "      <td>C123</td>\n",
       "      <td>S</td>\n",
       "    </tr>\n",
       "    <tr>\n",
       "      <th>4</th>\n",
       "      <td>5</td>\n",
       "      <td>0</td>\n",
       "      <td>3</td>\n",
       "      <td>Allen, Mr. William Henry</td>\n",
       "      <td>male</td>\n",
       "      <td>35.0</td>\n",
       "      <td>0</td>\n",
       "      <td>0</td>\n",
       "      <td>373450</td>\n",
       "      <td>8.0500</td>\n",
       "      <td>NaN</td>\n",
       "      <td>S</td>\n",
       "    </tr>\n",
       "  </tbody>\n",
       "</table>\n",
       "</div>"
      ],
      "text/plain": [
       "   PassengerId  Survived  Pclass  \\\n",
       "0            1         0       3   \n",
       "1            2         1       1   \n",
       "2            3         1       3   \n",
       "3            4         1       1   \n",
       "4            5         0       3   \n",
       "\n",
       "                                                Name     Sex   Age  SibSp  \\\n",
       "0                            Braund, Mr. Owen Harris    male  22.0      1   \n",
       "1  Cumings, Mrs. John Bradley (Florence Briggs Th...  female  38.0      1   \n",
       "2                             Heikkinen, Miss. Laina  female  26.0      0   \n",
       "3       Futrelle, Mrs. Jacques Heath (Lily May Peel)  female  35.0      1   \n",
       "4                           Allen, Mr. William Henry    male  35.0      0   \n",
       "\n",
       "   Parch            Ticket     Fare Cabin Embarked  \n",
       "0      0         A/5 21171   7.2500   NaN        S  \n",
       "1      0          PC 17599  71.2833   C85        C  \n",
       "2      0  STON/O2. 3101282   7.9250   NaN        S  \n",
       "3      0            113803  53.1000  C123        S  \n",
       "4      0            373450   8.0500   NaN        S  "
      ]
     },
     "execution_count": 4,
     "metadata": {},
     "output_type": "execute_result"
    }
   ],
   "source": [
    "#Quick tests - you'll find these scattered throughout the whole code base \n",
    "assert 'filepath' in globals(), \"Didn't download the file and(or) run the code :(\"\n",
    "assert 'dataset' in globals(), \"Didn't initialize the dataset variable very sadge\"\n",
    "\n",
    "\n",
    "dataset.head()"
   ]
  },
  {
   "cell_type": "markdown",
   "id": "8fd10319",
   "metadata": {},
   "source": [
    "Let's think about it. What do we think we should analyze in terms of the trends in the data?\n",
    "\n",
    "More specifically, what do you think shows trends?\n",
    "What I can tell you is the <strong>name</strong> doesn't really show a lot of trends. Neither would the <strong>passenger ID</strong>. Nor would the <strong>fare</strong>, or the <strong>ticket</strong>. So, let's try and remove those columns from the data!\n",
    "\n",
    "Helpful Commands:\n",
    "<pre>\n",
    "    dataset.drop[selected_rows_or_columns, axis] # --> returns the table w/ the specified rows and columns removed\n",
    "                                                       (axis=1 means columns, axis=0 means rows)\n",
    "                                                     \n",
    "    dataset.dropna(axis) #--> removes all the NaN(not a number) entries in the table - axis=0 means rows, axis=1 means columns\n",
    "</pre>\n",
    "    \n",
    "Example to drop the cabin and Pclass:\n",
    "<pre>\n",
    "    cabin_column = dataset.drop([\"Pclass\", \"Cabin\"], axis=1)\n",
    "</pre>"
   ]
  },
  {
   "cell_type": "code",
   "execution_count": 63,
   "id": "9f3431d7",
   "metadata": {},
   "outputs": [],
   "source": [
    "#ENTER CODE HERE (approx. 2 lines)\n",
    "#new_data = ...\n",
    "#new_data.dropna()\n"
   ]
  },
  {
   "cell_type": "code",
   "execution_count": 64,
   "id": "107025ab",
   "metadata": {},
   "outputs": [
    {
     "data": {
      "text/plain": [
       "<bound method NDFrame.head of      Survived  Pclass     Sex   Age  SibSp  Parch        Cabin Embarked\n",
       "1           1       1  female  38.0      1      0          C85        C\n",
       "3           1       1  female  35.0      1      0         C123        S\n",
       "6           0       1    male  54.0      0      0          E46        S\n",
       "10          1       3  female   4.0      1      1           G6        S\n",
       "11          1       1  female  58.0      0      0         C103        S\n",
       "..        ...     ...     ...   ...    ...    ...          ...      ...\n",
       "871         1       1  female  47.0      1      1          D35        S\n",
       "872         0       1    male  33.0      0      0  B51 B53 B55        S\n",
       "879         1       1  female  56.0      0      1          C50        C\n",
       "887         1       1  female  19.0      0      0          B42        S\n",
       "889         1       1    male  26.0      0      0         C148        C\n",
       "\n",
       "[183 rows x 8 columns]>"
      ]
     },
     "execution_count": 64,
     "metadata": {},
     "output_type": "execute_result"
    }
   ],
   "source": [
    "assert 'new_data' in globals(), \"Didn't download the file and(or) run the code :(\"\n",
    "\n",
    "new_data.head"
   ]
  },
  {
   "cell_type": "markdown",
   "id": "674bef88",
   "metadata": {},
   "source": [
    "The first major data visualization method we should look at in seaborn is sns.displot. <br>\n",
    "It draws a distribution plot that shows the general distributions of the data - pretty self explanatory.\n",
    "\n",
    "Helpful Commands:\n",
    "<pre>\n",
    "    sns.displot(column, kde, bins)\n",
    "</pre>\n",
    "\n",
    "Objective:\n",
    "- Draw distplots for the age and Pclass column. Observe any general trends and write about them in the empty markdown text box."
   ]
  },
  {
   "cell_type": "code",
   "execution_count": 53,
   "id": "41881a8c",
   "metadata": {},
   "outputs": [],
   "source": [
    "#ENTER CODE HERE (approx 1 line.)\n",
    "#sns.distplot(...)"
   ]
  },
  {
   "cell_type": "markdown",
   "id": "4caacc86",
   "metadata": {},
   "source": [
    "Enter your observations briefly here."
   ]
  },
  {
   "cell_type": "code",
   "execution_count": 54,
   "id": "d6f21e73",
   "metadata": {},
   "outputs": [],
   "source": [
    "#ENTER CODE HERE (approx 1 line.)\n",
    "#sns.distplot(...) "
   ]
  },
  {
   "cell_type": "markdown",
   "id": "f84923d1",
   "metadata": {},
   "source": [
    "Enter your observations briefly here."
   ]
  },
  {
   "cell_type": "markdown",
   "id": "6700d5d9",
   "metadata": {},
   "source": [
    "The second major data visualization method we should look at in seaborn is sns.catplot. <br>\n",
    "This compares the presence of the overlap in factors - to visualize it better, code it!\n",
    "\n",
    "Helpful Commands:\n",
    "<pre>\n",
    "    sns.catplot(x, col, kind, data) \n",
    "</pre>\n",
    "- x is the x-axis of the factor-plot -> the factor of the data that we're plotting (ie. <strong>\"Survived\"</strong> (0 or 1))\n",
    "- col is the column it takes from the data -> the part of the data that the factor plot is comparing (ie. <strong>\"Sex\"</strong> (male v female))\n",
    "- kind is the kind of plot to draw -> default the value of the 'kind' argument to <strong>\"count\"</strong> for this demonstration\n",
    "- data is the data itself -> the dataset you're getting x and col from -- <strong>dataset</strong>\n",
    "\n",
    "\n",
    "Objective:\n",
    "- Draw factorplots using gender and whether or not they survived. \n",
    "    - to make it a tiny bit easier, we have given you suggestions of where to put what parameter (check the <strong>bolded</strong> words!)"
   ]
  },
  {
   "cell_type": "code",
   "execution_count": 59,
   "id": "aac3a1c9",
   "metadata": {},
   "outputs": [],
   "source": [
    "#ENTER CODE HERE (approx 1 line.)\n",
    "#sns.catplot(...)"
   ]
  },
  {
   "cell_type": "markdown",
   "id": "a3fe9e03",
   "metadata": {},
   "source": [
    "The last major data visualization method we should look at in seaborn is sns.countplot.\n",
    "This counts the number of each unique portion of the specified column in the data.\n",
    "\n",
    "Helpful Commands:\n",
    "<pre>\n",
    "sns.countplot(x, data) #x is the part of the data you are analyzing(string name of the column), and data is the dataset\n",
    "</pre>\n",
    "\n",
    "Objective:\n",
    "- Graph a countplot of the SibSp category of the dataset."
   ]
  },
  {
   "cell_type": "code",
   "execution_count": 61,
   "id": "3094b75d",
   "metadata": {},
   "outputs": [],
   "source": [
    "#ENTER CODE HERE (approx. 1 line)\n",
    "#sns.countplot(...)"
   ]
  },
  {
   "cell_type": "markdown",
   "id": "e0a32a62",
   "metadata": {},
   "source": [
    "A small thing you should consider are box plots and heat maps. While heat maps aren't popularly preferred due to their nonintuitive nature for beginners, they can be quite helpful! Run the code down below and see what happens :)"
   ]
  },
  {
   "cell_type": "code",
   "execution_count": 70,
   "id": "2122c029",
   "metadata": {},
   "outputs": [
    {
     "data": {
      "text/plain": [
       "<AxesSubplot:>"
      ]
     },
     "execution_count": 70,
     "metadata": {},
     "output_type": "execute_result"
    },
    {
     "data": {
      "image/png": "[encoded data removed]",
      "text/plain": [
       "<Figure size 432x288 with 1 Axes>"
      ]
     },
     "metadata": {
      "needs_background": "light"
     },
     "output_type": "display_data"
    }
   ],
   "source": [
    "#RUN THIS!!!!\n",
    "sns.heatmap(dataset.isnull(),yticklabels=False,cbar=False)"
   ]
  },
  {
   "cell_type": "markdown",
   "id": "9d0a266b",
   "metadata": {},
   "source": [
    "To briefly explain the code above, it's taking all values of the dataset that are null and plotting them onto the heatmap.\n",
    "\n",
    "\n",
    "As we can see from the diagram the column ‘Age’ and ‘Cabin’ have got null values, indicated by the burst of white in those respective columns. While ‘Cabin’ has a huge amount of null values, ‘Age’ has moderate amount of null values.\n",
    "\n",
    "Therefore, if we were interested in removing columns with null values in them, we know we should remove the 'Age' and 'Cabin' columns from the data because it lends itself to having no null values.\n",
    "\n",
    "Below is a box plot - I won't explain it because understanding these is a skill you should have by now...use Google to review if you don't remember."
   ]
  },
  {
   "cell_type": "code",
   "execution_count": 69,
   "id": "bcb9d432",
   "metadata": {},
   "outputs": [
    {
     "data": {
      "text/plain": [
       "<AxesSubplot:xlabel='Pclass', ylabel='Age'>"
      ]
     },
     "execution_count": 69,
     "metadata": {},
     "output_type": "execute_result"
    },
    {
     "data": {
      "image/png": "[encoded data removed]",
      "text/plain": [
       "<Figure size 432x288 with 1 Axes>"
      ]
     },
     "metadata": {
      "needs_background": "light"
     },
     "output_type": "display_data"
    }
   ],
   "source": [
    "#RUN THIS!!!\n",
    "sns.boxplot(x='Pclass',y='Age',data=dataset)"
   ]
  },
  {
   "cell_type": "markdown",
   "id": "360d259f",
   "metadata": {},
   "source": []
  }
 ],
 "metadata": {
  "kernelspec": {
   "display_name": "Python 3 (ipykernel)",
   "language": "python",
   "name": "python3"
  },
  "language_info": {
   "codemirror_mode": {
    "name": "ipython",
    "version": 3
   },
   "file_extension": ".py",
   "mimetype": "text/x-python",
   "name": "python",
   "nbconvert_exporter": "python",
   "pygments_lexer": "ipython3",
   "version": "3.8.8"
  }
 },
 "nbformat": 4,
 "nbformat_minor": 5
}
