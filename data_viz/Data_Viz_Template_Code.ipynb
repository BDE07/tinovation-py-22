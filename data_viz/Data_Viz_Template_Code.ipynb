{
 "cells": [
  {
   "cell_type": "markdown",
   "id": "1e33d8ee",
   "metadata": {},
   "source": [
    "# Data Visualization Template Code - 10/10/22\n",
    "\n",
    "Hello everyone! Today's code sample won't be as complicated...maybe. We'll just give you a dataset to use and some stuff to visualize, and you should be on your way. We're using the same Titanic dataset as last time, so make sure you have it!\n",
    "\n",
    "We will be using matplotlib.pyplot and seaborn for this code sample. To download them, use the following commands in your Anaconda Terminal:\n",
    "\n",
    "<pre>\n",
    "conda install -c conda-forge matplotlib ---> installs matplotlib\n",
    "    \n",
    "conda install -c anaconda seaborn ---> installs seaborn\n",
    "</pre>"
   ]
  },
  {
   "cell_type": "code",
   "execution_count": null,
   "id": "32e59b93",
   "metadata": {},
   "outputs": [],
   "source": [
    "import matplotlib.pyplot as plt\n",
    "import seaborn as sns\n",
    "import numpy as np\n",
    "import os\n",
    "import pandas as pd"
   ]
  },
  {
   "cell_type": "markdown",
   "id": "002203f5",
   "metadata": {},
   "source": [
    "# Handling the Data\n",
    "Assuming you have the .csv file downloaded, we have to load that aforementioned .csv file into a Pandas Dataframe, and plainly visualize the data to make sure that we've properly loaded the data.\n",
    "\n",
    "To do this, you will need to find the filepath of the .csv file! There are a number of ways to do this, but we've listed apt documentation for one method - this will require a little bit of problem solving.\n",
    "\n",
    "<br>\n",
    "\n",
    "Helpful commands:\n",
    "<pre>\n",
    "    pandas.read_csv(filepath) # --> returns the csv file(file path is a STRING) as a pandas DataFrame\n",
    "</pre>\n",
    "If you want to read more about each, refer to following:<br>\n",
    "https://pandas.pydata.org/docs/reference/api/pandas.read_csv.html <br>\n"
   ]
  },
  {
   "cell_type": "code",
   "execution_count": null,
   "id": "842fc716",
   "metadata": {},
   "outputs": [],
   "source": [
    "filepath = [file for file in os.listdir(os.getcwd()) if \".csv\" in file][0]\n",
    "\n",
    "#WRITE CODE HERE (approx. 1 line)\n",
    "#dataset = ... "
   ]
  },
  {
   "cell_type": "code",
   "execution_count": null,
   "id": "a2f16b0d",
   "metadata": {},
   "outputs": [],
   "source": [
    "#Quick tests - you'll find these scattered throughout the whole code base \n",
    "assert 'filepath' in globals(), \"Didn't download the file and(or) run the code :(\"\n",
    "assert 'dataset' in globals(), \"Didn't initialize the dataset variable very sadge\"\n",
    "\n",
    "\n",
    "dataset.head()"
   ]
  },
  {
   "cell_type": "markdown",
   "id": "e5ef8f76",
   "metadata": {},
   "source": [
    "Let's think about it. What do we think we should analyze in terms of the trends in the data?\n",
    "\n",
    "More specifically, what do you think shows trends?\n",
    "What I can tell you is the <strong>name</strong> doesn't really show a lot of trends. Neither would the <strong>passenger ID</strong>. Nor would the <strong>fare</strong>, or the <strong>ticket</strong>. So, let's try and remove those columns from the data!\n",
    "\n",
    "Helpful Commands:\n",
    "<pre>\n",
    "    dataset.drop[selected_rows_or_columns, axis] # --> returns the table w/ the specified rows and columns removed\n",
    "                                                       (axis=1 means columns, axis=0 means rows)\n",
    "                                                     \n",
    "    dataset.dropna(axis) #--> removes all the NaN(not a number) entries in the table - axis=0 means rows, axis=1 means columns\n",
    "</pre>\n",
    "    \n",
    "Example to drop the cabin and Pclass:\n",
    "<pre>\n",
    "    cabin_column = dataset.drop([\"Pclass\", \"Cabin\"], axis=1)\n",
    "</pre>"
   ]
  },
  {
   "cell_type": "code",
   "execution_count": null,
   "id": "5d5db726",
   "metadata": {},
   "outputs": [],
   "source": [
    "#ENTER CODE HERE (approx. 2 lines)\n",
    "#new_data = ...\n",
    "#new_data.dropna()\n"
   ]
  },
  {
   "cell_type": "code",
   "execution_count": null,
   "id": "5b8261f1",
   "metadata": {},
   "outputs": [],
   "source": [
    "assert 'new_data' in globals(), \"Didn't download the file and(or) run the code :(\"\n",
    "\n",
    "new_data.head"
   ]
  },
  {
   "cell_type": "markdown",
   "id": "1618eeec",
   "metadata": {},
   "source": [
    "The first major data visualization method we should look at in seaborn is sns.displot. <br>\n",
    "It draws a distribution plot that shows the general distributions of the data - pretty self explanatory.\n",
    "\n",
    "Helpful Commands:\n",
    "<pre>\n",
    "    sns.displot(column, kde, bins)\n",
    "</pre>\n",
    "\n",
    "Objective:\n",
    "- Draw distplots for the age and Pclass column. Observe any general trends and write about them in the empty markdown text box."
   ]
  },
  {
   "cell_type": "code",
   "execution_count": null,
   "id": "8242a81d",
   "metadata": {},
   "outputs": [],
   "source": [
    "#ENTER CODE HERE (approx 1 line.)\n",
    "#sns.distplot(...)"
   ]
  },
  {
   "cell_type": "markdown",
   "id": "3e347a58",
   "metadata": {},
   "source": [
    "Enter your observations briefly here."
   ]
  },
  {
   "cell_type": "code",
   "execution_count": null,
   "id": "f047ebb9",
   "metadata": {},
   "outputs": [],
   "source": [
    "#ENTER CODE HERE (approx 1 line.)\n",
    "#sns.distplot(...) "
   ]
  },
  {
   "cell_type": "markdown",
   "id": "bc76595f",
   "metadata": {},
   "source": [
    "Enter your observations briefly here."
   ]
  },
  {
   "cell_type": "markdown",
   "id": "7bf1e348",
   "metadata": {},
   "source": [
    "The second major data visualization method we should look at in seaborn is sns.catplot. <br>\n",
    "This compares the presence of the overlap in factors - to visualize it better, code it!\n",
    "\n",
    "Helpful Commands:\n",
    "<pre>\n",
    "    sns.catplot(x, col, kind, data) \n",
    "</pre>\n",
    "- x is the x-axis of the factor-plot -> the factor of the data that we're plotting (ie. <strong>\"Survived\"</strong> (0 or 1))\n",
    "- col is the column it takes from the data -> the part of the data that the factor plot is comparing (ie. <strong>\"Sex\"</strong> (male v female))\n",
    "- kind is the kind of plot to draw -> default the value of the 'kind' argument to <strong>\"count\"</strong> for this demonstration\n",
    "- data is the data itself -> the dataset you're getting x and col from -- <strong>dataset</strong>\n",
    "\n",
    "\n",
    "Objective:\n",
    "- Draw factorplots using gender and whether or not they survived. \n",
    "    - to make it a tiny bit easier, we have given you suggestions of where to put what parameter (check the <strong>bolded</strong> words!)"
   ]
  },
  {
   "cell_type": "code",
   "execution_count": null,
   "id": "e9d03d3c",
   "metadata": {},
   "outputs": [],
   "source": [
    "#ENTER CODE HERE (approx 1 line.)\n",
    "#sns.catplot(...)"
   ]
  },
  {
   "cell_type": "markdown",
   "id": "30905025",
   "metadata": {},
   "source": [
    "The last major data visualization method we should look at in seaborn is sns.countplot.\n",
    "This counts the number of each unique portion of the specified column in the data.\n",
    "\n",
    "Helpful Commands:\n",
    "<pre>\n",
    "sns.countplot(x, data) #x is the part of the data you are analyzing(string name of the column), and data is the dataset\n",
    "</pre>\n",
    "\n",
    "Objective:\n",
    "- Graph a countplot of the SibSp category of the dataset."
   ]
  },
  {
   "cell_type": "code",
   "execution_count": null,
   "id": "24251507",
   "metadata": {},
   "outputs": [],
   "source": [
    "#ENTER CODE HERE (approx. 1 line)\n",
    "#sns.countplot(...)"
   ]
  },
  {
   "cell_type": "markdown",
   "id": "1a00731f",
   "metadata": {},
   "source": [
    "A small thing you should consider are box plots and heat maps. While heat maps aren't popularly preferred due to their nonintuitive nature for beginners, they can be quite helpful! Run the code down below and see what happens :)"
   ]
  },
  {
   "cell_type": "code",
   "execution_count": null,
   "id": "92f2d0eb",
   "metadata": {},
   "outputs": [],
   "source": [
    "#RUN THIS!!!!\n",
    "sns.heatmap(dataset.isnull(),yticklabels=False,cbar=False)"
   ]
  },
  {
   "cell_type": "markdown",
   "id": "bb8dd0c7",
   "metadata": {},
   "source": [
    "To briefly explain the code above, it's taking all values of the dataset that are null and plotting them onto the heatmap.\n",
    "\n",
    "\n",
    "As we can see from the diagram the column ‘Age’ and ‘Cabin’ have got null values, indicated by the burst of white in those respective columns. While ‘Cabin’ has a huge amount of null values, ‘Age’ has moderate amount of null values.\n",
    "\n",
    "Therefore, if we were interested in removing columns with null values in them, we know we should remove the 'Age' and 'Cabin' columns from the data because it lends itself to having no null values.\n",
    "\n",
    "Below is a box plot - I won't explain it because understanding these is a skill you should have by now...use Google to review if you don't remember."
   ]
  },
  {
   "cell_type": "code",
   "execution_count": null,
   "id": "6fac49f3",
   "metadata": {},
   "outputs": [],
   "source": [
    "#RUN THIS!!!\n",
    "sns.boxplot(x='Pclass',y='Age',data=dataset)"
   ]
  },
  {
   "cell_type": "markdown",
   "id": "c5bc5ef7",
   "metadata": {},
   "source": [
    "Thank you for running through this code sample! If you have any questions, ask now or send a msg in our discord. (refer to the slides to find it.)\n",
    "\n",
    "\n",
    "<strong>HAVE A GREAT MONDAY!</strong>"
   ]
  }
 ],
 "metadata": {
  "kernelspec": {
   "display_name": "Python 3 (ipykernel)",
   "language": "python",
   "name": "python3"
  },
  "language_info": {
   "codemirror_mode": {
    "name": "ipython",
    "version": 3
   },
   "file_extension": ".py",
   "mimetype": "text/x-python",
   "name": "python",
   "nbconvert_exporter": "python",
   "pygments_lexer": "ipython3",
   "version": "3.8.8"
  }
 },
 "nbformat": 4,
 "nbformat_minor": 5
}
